{
 "cells": [
  {
   "cell_type": "code",
   "execution_count": 38,
   "metadata": {},
   "outputs": [],
   "source": [
    "import pandas as pd\n",
    "import os\n",
    "import seaborn as sns\n",
    "import matplotlib"
   ]
  },
  {
   "cell_type": "code",
   "execution_count": 39,
   "metadata": {},
   "outputs": [],
   "source": [
    "def load_datasets():\n",
    "    folder_path = \"./archive\"  # Hardcoded path to ./archive\n",
    "    data_dict = {}  # Create an empty dictionary to store DataFrames\n",
    "    csv_files = os.listdir(folder_path)  # List all files in the folder\n",
    "    for file in csv_files:\n",
    "        if file.endswith(\".csv\"):  # Select only CSV files\n",
    "            full_path = os.path.join(folder_path, file)  # Full path to file\n",
    "            df = pd.read_csv(full_path)  # Read CSV into DataFrame\n",
    "            data_dict[file] = df  # Add to dictionary\n",
    "    return data_dict"
   ]
  },
  {
   "cell_type": "code",
   "execution_count": 40,
   "metadata": {},
   "outputs": [],
   "source": [
    "def list_available_datasets(data_dict):\n",
    "    print(\"\\n---Available datasets---\\n\")\n",
    "    for dataset in data_dict.keys():  # Iterate over each file name in the dictionary\n",
    "        print(dataset)"
   ]
  },
  {
   "cell_type": "code",
   "execution_count": 41,
   "metadata": {},
   "outputs": [],
   "source": [
    "data_dict = load_datasets()"
   ]
  },
  {
   "cell_type": "code",
   "execution_count": 42,
   "metadata": {},
   "outputs": [
    {
     "name": "stdout",
     "output_type": "stream",
     "text": [
      "\n",
      "---Available datasets---\n",
      "\n",
      "circuits.csv\n",
      "constructors.csv\n",
      "constructor_results.csv\n",
      "constructor_standings.csv\n",
      "drivers.csv\n",
      "driver_standings.csv\n",
      "lap_times.csv\n",
      "pit_stops.csv\n",
      "qualifying.csv\n",
      "races.csv\n",
      "results.csv\n",
      "seasons.csv\n",
      "sprint_results.csv\n",
      "status.csv\n"
     ]
    }
   ],
   "source": [
    "list_available_datasets(data_dict)"
   ]
  }
 ],
 "metadata": {
  "kernelspec": {
   "display_name": "Python 3",
   "language": "python",
   "name": "python3"
  },
  "language_info": {
   "codemirror_mode": {
    "name": "ipython",
    "version": 3
   },
   "file_extension": ".py",
   "mimetype": "text/x-python",
   "name": "python",
   "nbconvert_exporter": "python",
   "pygments_lexer": "ipython3",
   "version": "3.12.5"
  }
 },
 "nbformat": 4,
 "nbformat_minor": 2
}
